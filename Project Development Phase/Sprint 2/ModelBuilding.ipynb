{
 "cells": [
  {
   "cell_type": "markdown",
   "metadata": {},
   "source": [
    "1. Importing The Model Building Libraries"
   ]
  },
  {
   "cell_type": "code",
   "execution_count": 26,
   "metadata": {},
   "outputs": [],
   "source": [
    "\n",
    "from tensorflow.keras.preprocessing.image import ImageDataGenerator\n",
    "from keras.models import Sequential\n",
    "from keras.layers import Dense\n",
    "from keras.layers import Conv2D\n",
    "from keras.layers import MaxPooling2D \n",
    "from keras.layers import Flatten\n",
    "from tensorflow.keras.models import load_model\n",
    "from tensorflow.keras.preprocessing import image\n",
    "import numpy as np\n"
   ]
  },
  {
   "cell_type": "markdown",
   "metadata": {},
   "source": [
    " 2.Define the parameters /arguments for ImageDataGenerator class"
   ]
  },
  {
   "cell_type": "code",
   "execution_count": 27,
   "metadata": {},
   "outputs": [],
   "source": [
    "traindatagen = ImageDataGenerator(rescale=1./255,shear_range=0.2,zoom_range=0.2,horizontal_flip=True)\n"
   ]
  },
  {
   "cell_type": "code",
   "execution_count": 28,
   "metadata": {},
   "outputs": [],
   "source": [
    "testdatagen = ImageDataGenerator(rescale=1./255)"
   ]
  },
  {
   "cell_type": "markdown",
   "metadata": {},
   "source": [
    "3.Applying ImageDataGenerator functionality to trainset and testset"
   ]
  },
  {
   "cell_type": "code",
   "execution_count": 29,
   "metadata": {},
   "outputs": [
    {
     "name": "stdout",
     "output_type": "stream",
     "text": [
      "Found 594 images belonging to 6 classes.\n"
     ]
    }
   ],
   "source": [
    "x_train = traindatagen.flow_from_directory('Dataset/train',target_size=(64,64),batch_size=5,color_mode='grayscale',class_mode='categorical')"
   ]
  },
  {
   "cell_type": "code",
   "execution_count": 30,
   "metadata": {},
   "outputs": [
    {
     "name": "stdout",
     "output_type": "stream",
     "text": [
      "Found 30 images belonging to 6 classes.\n"
     ]
    }
   ],
   "source": [
    "x_test = testdatagen.flow_from_directory('Dataset/test',target_size=(64,64),batch_size=5,color_mode='grayscale',class_mode='categorical')"
   ]
  },
  {
   "cell_type": "markdown",
   "metadata": {},
   "source": [
    "4. Initializing The Model"
   ]
  },
  {
   "cell_type": "code",
   "execution_count": 31,
   "metadata": {},
   "outputs": [],
   "source": [
    "model = Sequential()\n"
   ]
  },
  {
   "cell_type": "markdown",
   "metadata": {},
   "source": [
    "5. Adding CNN Layers"
   ]
  },
  {
   "cell_type": "code",
   "execution_count": 32,
   "metadata": {},
   "outputs": [],
   "source": [
    "model.add(Conv2D(32, (3, 3), input_shape=(64, 64, 1), activation='relu')) \n",
    "model.add(MaxPooling2D(pool_size=(2, 2)))\n",
    "model.add(Conv2D(32, (3, 3), activation='relu'))\n",
    "model.add(MaxPooling2D(pool_size=(2, 2)))\n",
    "model.add(Flatten())"
   ]
  },
  {
   "cell_type": "markdown",
   "metadata": {},
   "source": [
    "6. Adding Dense Layers"
   ]
  },
  {
   "cell_type": "code",
   "execution_count": 33,
   "metadata": {},
   "outputs": [],
   "source": [
    "\n",
    "\n",
    "model.add(Dense(units=128,activation='relu'))\n",
    "model.add(Dense(units=6,activation='softmax'))"
   ]
  },
  {
   "cell_type": "code",
   "execution_count": 34,
   "metadata": {},
   "outputs": [
    {
     "name": "stdout",
     "output_type": "stream",
     "text": [
      "Model: \"sequential_1\"\n",
      "_________________________________________________________________\n",
      " Layer (type)                Output Shape              Param #   \n",
      "=================================================================\n",
      " conv2d_2 (Conv2D)           (None, 62, 62, 32)        320       \n",
      "                                                                 \n",
      " max_pooling2d_2 (MaxPooling  (None, 31, 31, 32)       0         \n",
      " 2D)                                                             \n",
      "                                                                 \n",
      " conv2d_3 (Conv2D)           (None, 29, 29, 32)        9248      \n",
      "                                                                 \n",
      " max_pooling2d_3 (MaxPooling  (None, 14, 14, 32)       0         \n",
      " 2D)                                                             \n",
      "                                                                 \n",
      " flatten_1 (Flatten)         (None, 6272)              0         \n",
      "                                                                 \n",
      " dense_2 (Dense)             (None, 128)               802944    \n",
      "                                                                 \n",
      " dense_3 (Dense)             (None, 6)                 774       \n",
      "                                                                 \n",
      "=================================================================\n",
      "Total params: 813,286\n",
      "Trainable params: 813,286\n",
      "Non-trainable params: 0\n",
      "_________________________________________________________________\n"
     ]
    }
   ],
   "source": [
    "model.summary()"
   ]
  },
  {
   "cell_type": "markdown",
   "metadata": {},
   "source": [
    "7. Configure The Learning Process"
   ]
  },
  {
   "cell_type": "code",
   "execution_count": 35,
   "metadata": {},
   "outputs": [],
   "source": [
    "model.compile(optimizer='adam',loss='categorical_crossentropy',metrics=['accuracy'])"
   ]
  },
  {
   "cell_type": "code",
   "execution_count": 36,
   "metadata": {},
   "outputs": [
    {
     "name": "stdout",
     "output_type": "stream",
     "text": [
      "2.10.0\n"
     ]
    }
   ],
   "source": [
    "\n",
    "import tensorflow as tf\n",
    "tf . print(tf. __version__)\n"
   ]
  },
  {
   "cell_type": "markdown",
   "metadata": {},
   "source": [
    "8. Train The Model"
   ]
  },
  {
   "cell_type": "code",
   "execution_count": 37,
   "metadata": {},
   "outputs": [
    {
     "name": "stdout",
     "output_type": "stream",
     "text": [
      "Epoch 1/20\n"
     ]
    },
    {
     "name": "stderr",
     "output_type": "stream",
     "text": [
      "/tmp/ipykernel_70901/1633189495.py:1: UserWarning: `Model.fit_generator` is deprecated and will be removed in a future version. Please use `Model.fit`, which supports generators.\n",
      "  model.fit_generator(generator=x_train,steps_per_epoch=len(x_train),epochs=20,\n"
     ]
    },
    {
     "name": "stdout",
     "output_type": "stream",
     "text": [
      "119/119 [==============================] - 1s 7ms/step - loss: 1.3736 - accuracy: 0.4259 - val_loss: 0.7573 - val_accuracy: 0.6667\n",
      "Epoch 2/20\n",
      "119/119 [==============================] - 1s 7ms/step - loss: 0.6477 - accuracy: 0.7525 - val_loss: 0.7432 - val_accuracy: 0.7667\n",
      "Epoch 3/20\n",
      "119/119 [==============================] - 1s 7ms/step - loss: 0.4472 - accuracy: 0.8131 - val_loss: 0.5949 - val_accuracy: 0.8000\n",
      "Epoch 4/20\n",
      "119/119 [==============================] - 1s 7ms/step - loss: 0.4017 - accuracy: 0.8519 - val_loss: 0.5183 - val_accuracy: 0.8667\n",
      "Epoch 5/20\n",
      "119/119 [==============================] - 1s 6ms/step - loss: 0.2610 - accuracy: 0.8990 - val_loss: 0.4658 - val_accuracy: 0.9000\n",
      "Epoch 6/20\n",
      "119/119 [==============================] - 1s 7ms/step - loss: 0.2626 - accuracy: 0.9108 - val_loss: 0.2314 - val_accuracy: 0.9000\n",
      "Epoch 7/20\n",
      "119/119 [==============================] - 1s 7ms/step - loss: 0.2177 - accuracy: 0.9226 - val_loss: 0.4094 - val_accuracy: 0.9000\n",
      "Epoch 8/20\n",
      "119/119 [==============================] - 1s 7ms/step - loss: 0.1487 - accuracy: 0.9512 - val_loss: 0.4178 - val_accuracy: 0.9333\n",
      "Epoch 9/20\n",
      "119/119 [==============================] - 1s 7ms/step - loss: 0.1261 - accuracy: 0.9529 - val_loss: 0.3710 - val_accuracy: 0.9333\n",
      "Epoch 10/20\n",
      "119/119 [==============================] - 1s 7ms/step - loss: 0.1235 - accuracy: 0.9529 - val_loss: 0.2879 - val_accuracy: 0.9000\n",
      "Epoch 11/20\n",
      "119/119 [==============================] - 1s 7ms/step - loss: 0.0820 - accuracy: 0.9731 - val_loss: 1.2046 - val_accuracy: 0.7000\n",
      "Epoch 12/20\n",
      "119/119 [==============================] - 1s 6ms/step - loss: 0.0780 - accuracy: 0.9731 - val_loss: 0.2134 - val_accuracy: 0.9667\n",
      "Epoch 13/20\n",
      "119/119 [==============================] - 1s 7ms/step - loss: 0.1159 - accuracy: 0.9596 - val_loss: 0.3745 - val_accuracy: 0.9000\n",
      "Epoch 14/20\n",
      "119/119 [==============================] - 1s 7ms/step - loss: 0.0644 - accuracy: 0.9731 - val_loss: 0.1958 - val_accuracy: 0.9333\n",
      "Epoch 15/20\n",
      "119/119 [==============================] - 1s 7ms/step - loss: 0.0581 - accuracy: 0.9781 - val_loss: 0.4044 - val_accuracy: 0.9000\n",
      "Epoch 16/20\n",
      "119/119 [==============================] - 1s 7ms/step - loss: 0.0992 - accuracy: 0.9697 - val_loss: 0.2571 - val_accuracy: 0.9333\n",
      "Epoch 17/20\n",
      "119/119 [==============================] - 1s 7ms/step - loss: 0.0534 - accuracy: 0.9832 - val_loss: 0.3824 - val_accuracy: 0.9667\n",
      "Epoch 18/20\n",
      "119/119 [==============================] - 1s 7ms/step - loss: 0.0410 - accuracy: 0.9815 - val_loss: 0.3097 - val_accuracy: 0.9667\n",
      "Epoch 19/20\n",
      "119/119 [==============================] - 1s 7ms/step - loss: 0.0402 - accuracy: 0.9815 - val_loss: 0.3617 - val_accuracy: 0.9667\n",
      "Epoch 20/20\n",
      "119/119 [==============================] - 1s 6ms/step - loss: 0.0281 - accuracy: 0.9933 - val_loss: 0.4102 - val_accuracy: 0.9000\n"
     ]
    },
    {
     "data": {
      "text/plain": [
       "<keras.callbacks.History at 0x7f3874ae4640>"
      ]
     },
     "execution_count": 37,
     "metadata": {},
     "output_type": "execute_result"
    }
   ],
   "source": [
    "model.fit_generator(generator=x_train,steps_per_epoch=len(x_train),epochs=20,\n",
    "validation_data=x_test,validation_steps=len(x_test))"
   ]
  },
  {
   "cell_type": "markdown",
   "metadata": {},
   "source": [
    "9. Save The Model"
   ]
  },
  {
   "cell_type": "code",
   "execution_count": 38,
   "metadata": {},
   "outputs": [],
   "source": [
    "model.save('gesture.h5')"
   ]
  },
  {
   "cell_type": "markdown",
   "metadata": {},
   "source": [
    "10 . Test The Model"
   ]
  },
  {
   "cell_type": "code",
   "execution_count": 39,
   "metadata": {},
   "outputs": [],
   "source": [
    "model_json = model.to_json()"
   ]
  },
  {
   "cell_type": "code",
   "execution_count": 40,
   "metadata": {},
   "outputs": [],
   "source": [
    "with open('model-bw.json',\"w\") as json_file:\n",
    "    json_file.write(model_json)"
   ]
  },
  {
   "cell_type": "code",
   "execution_count": 41,
   "metadata": {},
   "outputs": [],
   "source": [
    "model = load_model('gesture.h5')"
   ]
  },
  {
   "cell_type": "code",
   "execution_count": 42,
   "metadata": {},
   "outputs": [
    {
     "data": {
      "image/png": "[encoded data removed]",
      "text/plain": [
       "<PIL.Image.Image image mode=L size=64x64>"
      ]
     },
     "execution_count": 42,
     "metadata": {},
     "output_type": "execute_result"
    }
   ],
   "source": [
    "img = image.load_img('Dataset/test/2/3.jpg',grayscale=True,target_size=(64,64))\n",
    "img"
   ]
  },
  {
   "cell_type": "code",
   "execution_count": 43,
   "metadata": {},
   "outputs": [
    {
     "name": "stdout",
     "output_type": "stream",
     "text": [
      "1/1 [==============================] - 0s 46ms/step\n"
     ]
    },
    {
     "data": {
      "text/plain": [
       "array([2])"
      ]
     },
     "execution_count": 43,
     "metadata": {},
     "output_type": "execute_result"
    }
   ],
   "source": [
    "\n",
    "x = image.img_to_array(img)\n",
    "x = np.expand_dims(x,axis=0)\n",
    "pred = np.argmax(model.predict(x),axis=1)\n",
    "pred"
   ]
  },
  {
   "cell_type": "code",
   "execution_count": 44,
   "metadata": {},
   "outputs": [
    {
     "data": {
      "text/plain": [
       "'2'"
      ]
     },
     "execution_count": 44,
     "metadata": {},
     "output_type": "execute_result"
    }
   ],
   "source": [
    "index = ['0','1','2','3','4','5']\n",
    "res = str(index[pred[0]])\n",
    "res"
   ]
  },
  {
   "cell_type": "code",
   "execution_count": null,
   "metadata": {},
   "outputs": [],
   "source": []
  }
 ],
 "metadata": {
  "kernelspec": {
   "display_name": "Python 3.9.0 ('venv3.9')",
   "language": "python",
   "name": "python3"
  },
  "language_info": {
   "codemirror_mode": {
    "name": "ipython",
    "version": 3
   },
   "file_extension": ".py",
   "mimetype": "text/x-python",
   "name": "python",
   "nbconvert_exporter": "python",
   "pygments_lexer": "ipython3",
   "version": "3.9.0"
  },
  "orig_nbformat": 4,
  "vscode": {
   "interpreter": {
    "hash": "85608488f3a17fdaa1b364b9e22bf12e969be5eafa99dc98ce11e328ed13206b"
   }
  }
 },
 "nbformat": 4,
 "nbformat_minor": 2
}
